{
 "cells": [
  {
   "cell_type": "code",
   "execution_count": 1,
   "id": "c50623ce",
   "metadata": {},
   "outputs": [],
   "source": [
    "import pandas as pd\n",
    "import numpy as np\n",
    "import matplotlib.pyplot as plt\n",
    "import seaborn as sns"
   ]
  },
  {
   "cell_type": "code",
   "execution_count": 6,
   "id": "eea04909",
   "metadata": {},
   "outputs": [],
   "source": [
    "df_actual = pd.read_csv('bolsa_minidataframe.csv')"
   ]
  },
  {
   "cell_type": "code",
   "execution_count": 14,
   "id": "822dab38",
   "metadata": {},
   "outputs": [
    {
     "data": {
      "text/html": [
       "<div>\n",
       "<style scoped>\n",
       "    .dataframe tbody tr th:only-of-type {\n",
       "        vertical-align: middle;\n",
       "    }\n",
       "\n",
       "    .dataframe tbody tr th {\n",
       "        vertical-align: top;\n",
       "    }\n",
       "\n",
       "    .dataframe thead th {\n",
       "        text-align: right;\n",
       "    }\n",
       "</style>\n",
       "<table border=\"1\" class=\"dataframe\">\n",
       "  <thead>\n",
       "    <tr style=\"text-align: right;\">\n",
       "      <th></th>\n",
       "      <th>Date</th>\n",
       "      <th>Open</th>\n",
       "      <th>High</th>\n",
       "      <th>Low</th>\n",
       "      <th>Close</th>\n",
       "    </tr>\n",
       "  </thead>\n",
       "  <tbody>\n",
       "    <tr>\n",
       "      <th>0</th>\n",
       "      <td>07/25/22</td>\n",
       "      <td>31950.93</td>\n",
       "      <td>32029.03</td>\n",
       "      <td>31821.67</td>\n",
       "      <td>31990.04</td>\n",
       "    </tr>\n",
       "    <tr>\n",
       "      <th>1</th>\n",
       "      <td>07/22/22</td>\n",
       "      <td>32167.92</td>\n",
       "      <td>32219.25</td>\n",
       "      <td>31731.47</td>\n",
       "      <td>31899.29</td>\n",
       "    </tr>\n",
       "    <tr>\n",
       "      <th>2</th>\n",
       "      <td>07/21/22</td>\n",
       "      <td>31826.49</td>\n",
       "      <td>32040.63</td>\n",
       "      <td>31534.08</td>\n",
       "      <td>32036.90</td>\n",
       "    </tr>\n",
       "    <tr>\n",
       "      <th>3</th>\n",
       "      <td>07/20/22</td>\n",
       "      <td>31829.99</td>\n",
       "      <td>31944.45</td>\n",
       "      <td>31646.95</td>\n",
       "      <td>31874.84</td>\n",
       "    </tr>\n",
       "    <tr>\n",
       "      <th>4</th>\n",
       "      <td>07/19/22</td>\n",
       "      <td>31165.91</td>\n",
       "      <td>31842.25</td>\n",
       "      <td>31165.91</td>\n",
       "      <td>31827.05</td>\n",
       "    </tr>\n",
       "  </tbody>\n",
       "</table>\n",
       "</div>"
      ],
      "text/plain": [
       "       Date      Open      High       Low     Close\n",
       "0  07/25/22  31950.93  32029.03  31821.67  31990.04\n",
       "1  07/22/22  32167.92  32219.25  31731.47  31899.29\n",
       "2  07/21/22  31826.49  32040.63  31534.08  32036.90\n",
       "3  07/20/22  31829.99  31944.45  31646.95  31874.84\n",
       "4  07/19/22  31165.91  31842.25  31165.91  31827.05"
      ]
     },
     "execution_count": 14,
     "metadata": {},
     "output_type": "execute_result"
    }
   ],
   "source": [
    "df_actual.head()"
   ]
  },
  {
   "cell_type": "code",
   "execution_count": 8,
   "id": "d210c9c7",
   "metadata": {},
   "outputs": [],
   "source": [
    "# Asignamos nombres a las columnas\n",
    "columns = ['Date','Open','High','Low','Close']\n",
    "df_actual.columns = columns"
   ]
  },
  {
   "cell_type": "code",
   "execution_count": 12,
   "id": "d8481e7a",
   "metadata": {},
   "outputs": [],
   "source": [
    "# Eliminación de datos repetidos\n",
    "df_actual = df_actual.drop_duplicates()"
   ]
  },
  {
   "cell_type": "code",
   "execution_count": null,
   "id": "4c099b75",
   "metadata": {},
   "outputs": [],
   "source": []
  }
 ],
 "metadata": {
  "kernelspec": {
   "display_name": "Python 3 (ipykernel)",
   "language": "python",
   "name": "python3"
  },
  "language_info": {
   "codemirror_mode": {
    "name": "ipython",
    "version": 3
   },
   "file_extension": ".py",
   "mimetype": "text/x-python",
   "name": "python",
   "nbconvert_exporter": "python",
   "pygments_lexer": "ipython3",
   "version": "3.8.13"
  }
 },
 "nbformat": 4,
 "nbformat_minor": 5
}
